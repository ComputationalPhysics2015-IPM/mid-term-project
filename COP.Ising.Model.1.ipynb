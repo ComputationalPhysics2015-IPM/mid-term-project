{
 "cells": [
  {
   "cell_type": "code",
   "execution_count": 3,
   "metadata": {
    "collapsed": true
   },
   "outputs": [],
   "source": [
    "%matplotlib inline\n",
    "import numpy as np\n",
    "import math\n",
    "import matplotlib.pyplot as plt\n",
    "import random\n",
    "import itertools as itr"
   ]
  },
  {
   "cell_type": "code",
   "execution_count": 4,
   "metadata": {
    "collapsed": true
   },
   "outputs": [],
   "source": [
    "beta=1.0\n",
    "J=-1.0\n",
    "x=20\n",
    "y=20\n",
    "steps=100000\n",
    "d=0.3"
   ]
  },
  {
   "cell_type": "code",
   "execution_count": 5,
   "metadata": {
    "collapsed": true
   },
   "outputs": [],
   "source": [
    "def initiate():\n",
    "    np.random.shuffle(l)\n",
    "    for n in range(math.floor(d*len(l))):\n",
    "        i=l[n]%y\n",
    "        j=l[n]//x\n",
    "        s[i][j]=-1"
   ]
  },
  {
   "cell_type": "code",
   "execution_count": 6,
   "metadata": {
    "collapsed": true
   },
   "outputs": [],
   "source": [
    "#In this case, periodic bundary conditions is setted only one direction\n",
    "def nearest_neighbour(r):\n",
    "    nn=list()\n",
    "    if r>=x:\n",
    "        nn.append(r-x)\n",
    "\n",
    "    if r<x*(y-1):\n",
    "        nn.append(r+x)\n",
    "\n",
    "    if (r%y)==0:\n",
    "        nn.append(r+x-1)\n",
    "    else:\n",
    "        nn.append(r-1)\n",
    "        \n",
    "    if ((r+1)%y)==0:\n",
    "        nn.append(r-x+1)\n",
    "    else:\n",
    "        nn.append(r+1)\n",
    "        \n",
    "    return nn "
   ]
  },
  {
   "cell_type": "code",
   "execution_count": 7,
   "metadata": {
    "collapsed": true
   },
   "outputs": [],
   "source": [
    "#In this case, periodic bundary conditions is setted two directions\n",
    "def nearest_neighbour1(r):\n",
    "    nn=list()\n",
    "    if r>=x:\n",
    "        nn.append(r-x)\n",
    "    else:\n",
    "        nn.append(r+x*(y-1))\n",
    "        \n",
    "    if r<x*(y-1):\n",
    "        nn.append(r+x)\n",
    "    else:\n",
    "        nn.append(r-x*(y-1))\n",
    "        \n",
    "    if (r%y)==0:\n",
    "        nn.append(r+x-1)\n",
    "    else:\n",
    "        nn.append(r-1)\n",
    "        \n",
    "    if ((r+1)%y)==0:\n",
    "        nn.append(r-x+1)\n",
    "    else:\n",
    "        nn.append(r+1)\n",
    "        \n",
    "    return nn "
   ]
  },
  {
   "cell_type": "code",
   "execution_count": 8,
   "metadata": {
    "collapsed": true
   },
   "outputs": [],
   "source": [
    "def exchange(r1,r2):\n",
    "    s[l[r1]%y][l[r1]//x],s[l[r2]%y][l[r2]//x]=s[l[r2]%y][l[r2]//x],s[l[r1]%y][l[r1]//x]\n",
    "    l[r1],l[r2]=l[r2],l[r1]"
   ]
  },
  {
   "cell_type": "code",
   "execution_count": 9,
   "metadata": {
    "collapsed": false
   },
   "outputs": [
    {
     "data": {
      "image/png": "[encoded data removed]",
      "text/plain": [
       "<matplotlib.figure.Figure at 0x7fc81d94e860>"
      ]
     },
     "metadata": {},
     "output_type": "display_data"
    },
    {
     "data": {
      "text/plain": [
       "<matplotlib.image.AxesImage at 0x7fc81d523ac8>"
      ]
     },
     "execution_count": 9,
     "metadata": {},
     "output_type": "execute_result"
    },
    {
     "data": {
      "image/png": "[encoded data removed]",
      "text/plain": [
       "<matplotlib.figure.Figure at 0x7fc8342140b8>"
      ]
     },
     "metadata": {},
     "output_type": "display_data"
    }
   ],
   "source": [
    "s=np.ones((x,y))\n",
    "l=np.array(range(x*y))\n",
    "initiate()\n",
    "plt.imshow(s, cmap=plt.cm.gray, interpolation='nearest')\n",
    "plt.show()\n",
    "for t in range(steps):\n",
    "    R1=np.random.randint(x*y*d)\n",
    "    R2=math.floor(x*y*d)+np.random.randint(x*y*(1-d))\n",
    "    rand1=l[R1]\n",
    "    rand2=l[R2]\n",
    "    exchange(R1,R2)\n",
    "    nn1=nearest_neighbour1(rand1)\n",
    "    nn2=nearest_neighbour1(rand2)\n",
    "    S=0\n",
    "    for o in range(len(nn1)):\n",
    "        i=nn1[o]%y\n",
    "        j=nn1[o]//x\n",
    "        S+=s[i][j]\n",
    "    E=2*J*s[rand1%y][rand1//x]*S\n",
    "    S=0\n",
    "    for o in range(len(nn2)):\n",
    "        i=nn2[o]%y\n",
    "        j=nn2[o]//x\n",
    "        S+=s[i][j]\n",
    "    E+=(2*J*s[rand2%y][rand2//x]*S)\n",
    "    if E>0:\n",
    "        p=random.uniform(0,1)\n",
    "        if p>np.exp(-beta*E):\n",
    "            exchange(R1,R2)\n",
    "plt.imshow(s, cmap=plt.cm.gray, interpolation='nearest')"
   ]
  }
 ],
 "metadata": {
  "kernelspec": {
   "display_name": "Python 3",
   "language": "python",
   "name": "python3"
  },
  "language_info": {
   "codemirror_mode": {
    "name": "ipython",
    "version": 3
   },
   "file_extension": ".py",
   "mimetype": "text/x-python",
   "name": "python",
   "nbconvert_exporter": "python",
   "pygments_lexer": "ipython3",
   "version": "3.4.0"
  }
 },
 "nbformat": 4,
 "nbformat_minor": 0
}
